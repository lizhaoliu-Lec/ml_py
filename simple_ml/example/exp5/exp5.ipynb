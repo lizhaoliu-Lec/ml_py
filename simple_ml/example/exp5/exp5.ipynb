{
 "cells": [
  {
   "cell_type": "markdown",
   "metadata": {},
   "source": [
    "# Experiment-3: Recommender System Based on Matrix Factorization\n",
    "## In this experiment, we will: \n",
    "- (1) Get more intuitions about Matrix Decomposition. \n",
    "- (2) Get your hands dirty on MovieLens-100k dataset, which contains 100,000 comments from 943 users out of 1682 movies. \n",
    "- (3) Get some intuition about hidden dimension's impact.\n",
    "- (4) Get some intuition about loss function's impact.\n",
    "- (5) Get some intuition about regularizer's impact.\n",
    "### As usual, in this experiment, we will use the mini framework [simple_ml](https://github.com/lizhaoliu-Lec/simple_ml)."
   ]
  },
  {
   "cell_type": "code",
   "execution_count": 1,
   "metadata": {
    "pycharm": {
     "is_executing": false,
     "name": "#%%\n"
    }
   },
   "outputs": [
    {
     "name": "stdout",
     "output_type": "stream",
     "text": [
      "Requirement already up-to-date: simple_machine_learning in e:\\anaconda3\\lib\\site-packages (0.1.5)\n",
      "Requirement already satisfied, skipping upgrade: matplotlib>=3.1.0 in e:\\anaconda3\\lib\\site-packages (from simple_machine_learning) (3.1.0)\n",
      "Requirement already satisfied, skipping upgrade: pandas>=0.24.2 in e:\\anaconda3\\lib\\site-packages (from simple_machine_learning) (0.24.2)\n",
      "Requirement already satisfied, skipping upgrade: Pillow>=6.2.1 in e:\\anaconda3\\lib\\site-packages (from simple_machine_learning) (6.2.1)\n",
      "Requirement already satisfied, skipping upgrade: tqdm>=4.32.1 in e:\\anaconda3\\lib\\site-packages (from simple_machine_learning) (4.32.1)\n",
      "Requirement already satisfied, skipping upgrade: scikit-learn>=0.21.3 in e:\\anaconda3\\lib\\site-packages (from simple_machine_learning) (0.21.3)\n",
      "Requirement already satisfied, skipping upgrade: setuptools>=41.0.1 in e:\\anaconda3\\lib\\site-packages (from simple_machine_learning) (41.0.1)\n",
      "Requirement already satisfied, skipping upgrade: numpy>=1.16.4 in e:\\anaconda3\\lib\\site-packages (from simple_machine_learning) (1.16.4)\n",
      "Requirement already satisfied, skipping upgrade: scipy>=1.2.1 in e:\\anaconda3\\lib\\site-packages (from simple_machine_learning) (1.2.1)\n",
      "Requirement already satisfied, skipping upgrade: cycler>=0.10 in e:\\anaconda3\\lib\\site-packages (from matplotlib>=3.1.0->simple_machine_learning) (0.10.0)\n",
      "Requirement already satisfied, skipping upgrade: kiwisolver>=1.0.1 in e:\\anaconda3\\lib\\site-packages (from matplotlib>=3.1.0->simple_machine_learning) (1.1.0)\n",
      "Requirement already satisfied, skipping upgrade: pyparsing!=2.0.4,!=2.1.2,!=2.1.6,>=2.0.1 in e:\\anaconda3\\lib\\site-packages (from matplotlib>=3.1.0->simple_machine_learning) (2.4.0)\n",
      "Requirement already satisfied, skipping upgrade: python-dateutil>=2.1 in e:\\anaconda3\\lib\\site-packages (from matplotlib>=3.1.0->simple_machine_learning) (2.8.0)\n",
      "Requirement already satisfied, skipping upgrade: pytz>=2011k in e:\\anaconda3\\lib\\site-packages (from pandas>=0.24.2->simple_machine_learning) (2019.1)\n",
      "Requirement already satisfied, skipping upgrade: joblib>=0.11 in e:\\anaconda3\\lib\\site-packages (from scikit-learn>=0.21.3->simple_machine_learning) (0.13.2)\n",
      "Requirement already satisfied, skipping upgrade: six in e:\\anaconda3\\lib\\site-packages (from cycler>=0.10->matplotlib>=3.1.0->simple_machine_learning) (1.12.0)\n",
      "Note: you may need to restart the kernel to use updated packages.\n"
     ]
    }
   ],
   "source": [
    "# as usual, do a little setup\n",
    "# upgration for Factorization layer.\n",
    "%pip install --upgrade simple_machine_learning\n",
    "import numpy as np\n",
    "\n",
    "from simple_ml.nn.layer import Factorization, Input\n",
    "from simple_ml.nn.model import Model\n",
    "from simple_ml.nn.regularizer import L2_Regularizer, L1_Regularizer, L1L2_Regularizer\n",
    "from simple_ml.nn.loss import MAE, MSE, HuberLoss\n",
    "from simple_ml.nn.optimizer import SGD, Momentum, Adam, RMSProp\n",
    "from simple_ml.utils.metric import absolute_error\n",
    "\n",
    "import matplotlib.pyplot as plt\n",
    "\n",
    "# fix random seed\n",
    "np.random.seed(1234)\n",
    "\n",
    "%matplotlib inline\n",
    "plt.rcParams['figure.figsize'] = (10.0, 8.0) # set default size of plots\n",
    "plt.rcParams['image.interpolation'] = 'nearest'\n",
    "plt.rcParams['image.cmap'] = 'gray'\n",
    "\n",
    "# for auto-reloading external modules\n",
    "# see http://stackoverflow.com/questions/1907993/autoreload-of-modules-in-ipython\n",
    "%load_ext autoreload\n",
    "%autoreload 2"
   ]
  },
  {
   "cell_type": "code",
   "execution_count": 2,
   "metadata": {
    "pycharm": {
     "is_executing": false,
     "name": "#%%\n"
    }
   },
   "outputs": [
    {
     "name": "stdout",
     "output_type": "stream",
     "text": [
      "Number of unique user: 943\n",
      "Number of unique item: 1682\n",
      "X_train:  (70000, 2)  y_train:  (70000, 1)\n",
      "X_val:  (10000, 2)  y_val:  (10000, 1)\n",
      "X_test:  (20000, 2)  y_test:  (70000, 1)\n",
      "\n",
      "We have `70000` training examples, `10000` validation examples and `20000` test examples\n",
      "X_train shape:  (70000, 2) , X_val shape:  (10000, 2) , X_test shape:  (20000, 2)\n",
      "y_train shape:  (70000, 1) , y_val shape:  (10000, 1) , y_test shape:  (20000, 1)\n"
     ]
    }
   ],
   "source": [
    "# load the data.\n",
    "\n",
    "def read_data(data_path='../tmp/exp5/ml-100k/u.data', val_split=0.1, test_split=0.2):\n",
    "    # read the data\n",
    "    triples = []\n",
    "    with open(data_path) as f:\n",
    "        for line in f.readlines():\n",
    "            triples.append([int(i) for i in line.split('\\t')[:-1]])\n",
    "    Data = np.array(triples, dtype=np.int)\n",
    "    total_size = Data.shape[0]\n",
    "    train_size = int(total_size - (val_split + test_split) * total_size)\n",
    "    val_size = int(train_size + val_split * total_size)\n",
    "    Data_train = Data[:train_size]\n",
    "    Data_val = Data[train_size:val_size]\n",
    "    Data_test = Data[val_size:]\n",
    "\n",
    "    def data_to_Xy(data):\n",
    "        # start from index 0\n",
    "        return data[:, :-1] - 1, np.reshape(data[:, -1], (-1, 1))\n",
    "\n",
    "    X_train, y_train = data_to_Xy(Data_train)\n",
    "    X_val, y_val = data_to_Xy(Data_val)\n",
    "    X_test, y_test = data_to_Xy(Data_test)\n",
    "\n",
    "    num_user = len(np.unique(Data[:, 0]))\n",
    "    num_item = len(np.unique(Data[:, 1]))\n",
    "    print('Number of unique user: %d' % num_user)\n",
    "    print('Number of unique item: %d' % num_item)\n",
    "    print('X_train: ', X_train.shape, ' y_train: ', y_train.shape)\n",
    "    print('X_val: ', X_val.shape, ' y_val: ', y_val.shape)\n",
    "    print('X_test: ', X_test.shape, ' y_test: ', y_train.shape)\n",
    "    print()\n",
    "    return X_train, y_train, X_val, y_val, X_test, y_test, num_user, num_item\n",
    "\n",
    "X_train, y_train, X_val, y_val, X_test, y_test, num_user, num_item = read_data()\n",
    "print('We have `%d` training examples, `%d` validation examples and `%d` test examples' % (X_train.shape[0], X_val.shape[0],X_test.shape[0]))\n",
    "print('X_train shape: ', X_train.shape, ', X_val shape: ', X_val.shape, ', X_test shape: ', X_test.shape)\n",
    "print('y_train shape: ', y_train.shape, ', y_val shape: ', y_val.shape, ', y_test shape: ', y_test.shape)"
   ]
  },
  {
   "cell_type": "markdown",
   "metadata": {
    "pycharm": {
     "name": "#%% md\n"
    }
   },
   "source": [
    "## Hidden dimension's impact.\n",
    "Now, we explore the impact of hiddent dimension in Matrix Factrization (MF). specifically, we set $h$ in [1, 5, 10, 15, 20, 25, 30]."
   ]
  },
  {
   "cell_type": "code",
   "execution_count": 3,
   "metadata": {
    "pycharm": {
     "is_executing": false,
     "name": "#%%\n"
    }
   },
   "outputs": [],
   "source": [
    "# first define Matrix Factization model.\n",
    "def MF(h=10, loss_fn=MSE, reg=L2_Regularizer, penalty_coff=0.1):\n",
    "    Inputs = Input(input_shape=2)\n",
    "    out = Factorization(a_dim=num_user, b_dim=num_item, k=h,\n",
    "                        use_bias=True,\n",
    "                        regularizer=reg(penalty_coff))(Inputs)\n",
    "    # out = Factorization(a_dim=num_user, b_dim=num_item, k=10)(Inputs)\n",
    "    model = Model(Inputs, out)\n",
    "    # model.compile('MSE', optimizer=Adam(lr=0.001))\n",
    "    model.compile(loss_fn(), optimizer=Adam(lr=0.001))\n",
    "    return model"
   ]
  },
  {
   "cell_type": "code",
   "execution_count": 5,
   "metadata": {
    "pycharm": {
     "name": "#%%\n"
    }
   },
   "outputs": [
    {
     "name": "stdout",
     "output_type": "stream",
     "text": [
      "\n",
      "********** begin with hidden_dim = 1 **********\n",
      "\n",
      "epoch   100/  200, train-[loss: 0.4174 | metric: 0.7262]; valid-[loss: 0.4483 | metric: 0.7537]; \n",
      "valid-example 1/5: expect-[2.0], predict-[1.96]\n",
      "valid-example 2/5: expect-[4.0], predict-[3.3]\n",
      "valid-example 3/5: expect-[4.0], predict-[4.44]\n",
      "valid-example 4/5: expect-[1.0], predict-[3.37]\n",
      "valid-example 5/5: expect-[4.0], predict-[2.31]\n",
      "\n",
      "epoch   200/  200, train-[loss: 0.4123 | metric: 0.7214]; valid-[loss: 0.4477 | metric: 0.7525]; \n",
      "valid-example 1/5: expect-[2.0], predict-[2.65]\n",
      "valid-example 2/5: expect-[5.0], predict-[2.03]\n",
      "valid-example 3/5: expect-[4.0], predict-[3.48]\n",
      "valid-example 4/5: expect-[4.0], predict-[2.88]\n",
      "valid-example 5/5: expect-[2.0], predict-[3.62]\n",
      "\n",
      "********** begin with hidden_dim = 5 **********\n",
      "\n",
      "epoch   100/  200, train-[loss: 0.3184 | metric: 0.6290]; valid-[loss: 0.4348 | metric: 0.7336]; \n",
      "valid-example 1/5: expect-[4.0], predict-[4.49]\n",
      "valid-example 2/5: expect-[3.0], predict-[1.91]\n",
      "valid-example 3/5: expect-[1.0], predict-[3.17]\n",
      "valid-example 4/5: expect-[2.0], predict-[2.87]\n",
      "valid-example 5/5: expect-[4.0], predict-[3.84]\n",
      "\n",
      "epoch   200/  200, train-[loss: 0.3111 | metric: 0.6219]; valid-[loss: 0.4388 | metric: 0.7350]; \n",
      "valid-example 1/5: expect-[3.0], predict-[3.45]\n",
      "valid-example 2/5: expect-[4.0], predict-[2.7]\n",
      "valid-example 3/5: expect-[3.0], predict-[3.51]\n",
      "valid-example 4/5: expect-[4.0], predict-[3.36]\n",
      "valid-example 5/5: expect-[2.0], predict-[3.58]\n",
      "\n",
      "********** begin with hidden_dim = 10 **********\n",
      "\n",
      "epoch   100/  200, train-[loss: 0.2755 | metric: 0.5836]; valid-[loss: 0.4365 | metric: 0.7343]; \n",
      "valid-example 1/5: expect-[4.0], predict-[3.6]\n",
      "valid-example 2/5: expect-[3.0], predict-[2.7]\n",
      "valid-example 3/5: expect-[2.0], predict-[2.93]\n",
      "valid-example 4/5: expect-[3.0], predict-[2.04]\n",
      "valid-example 5/5: expect-[3.0], predict-[2.06]\n",
      "\n",
      "epoch   200/  200, train-[loss: 0.2688 | metric: 0.5763]; valid-[loss: 0.4401 | metric: 0.7363]; \n",
      "valid-example 1/5: expect-[3.0], predict-[3.37]\n",
      "valid-example 2/5: expect-[5.0], predict-[4.46]\n",
      "valid-example 3/5: expect-[3.0], predict-[3.58]\n",
      "valid-example 4/5: expect-[4.0], predict-[4.07]\n",
      "valid-example 5/5: expect-[3.0], predict-[3.02]\n",
      "\n",
      "********** begin with hidden_dim = 15 **********\n",
      "\n",
      "epoch   100/  200, train-[loss: 0.2508 | metric: 0.5560]; valid-[loss: 0.4423 | metric: 0.7381]; \n",
      "valid-example 1/5: expect-[4.0], predict-[3.87]\n",
      "valid-example 2/5: expect-[4.0], predict-[3.95]\n",
      "valid-example 3/5: expect-[4.0], predict-[3.7]\n",
      "valid-example 4/5: expect-[5.0], predict-[4.04]\n",
      "valid-example 5/5: expect-[3.0], predict-[3.15]\n",
      "\n",
      "epoch   200/  200, train-[loss: 0.2441 | metric: 0.5484]; valid-[loss: 0.4472 | metric: 0.7415]; \n",
      "valid-example 1/5: expect-[3.0], predict-[3.0]\n",
      "valid-example 2/5: expect-[3.0], predict-[2.19]\n",
      "valid-example 3/5: expect-[4.0], predict-[4.43]\n",
      "valid-example 4/5: expect-[3.0], predict-[4.46]\n",
      "valid-example 5/5: expect-[4.0], predict-[4.55]\n",
      "\n",
      "********** begin with hidden_dim = 20 **********\n",
      "\n",
      "epoch   100/  200, train-[loss: 0.2358 | metric: 0.5392]; valid-[loss: 0.4420 | metric: 0.7375]; \n",
      "valid-example 1/5: expect-[5.0], predict-[4.36]\n",
      "valid-example 2/5: expect-[2.0], predict-[3.64]\n",
      "valid-example 3/5: expect-[4.0], predict-[4.43]\n",
      "valid-example 4/5: expect-[3.0], predict-[3.75]\n",
      "valid-example 5/5: expect-[3.0], predict-[3.05]\n",
      "\n",
      "epoch   200/  200, train-[loss: 0.2286 | metric: 0.5311]; valid-[loss: 0.4453 | metric: 0.7412]; \n",
      "valid-example 1/5: expect-[4.0], predict-[3.85]\n",
      "valid-example 2/5: expect-[4.0], predict-[3.73]\n",
      "valid-example 3/5: expect-[4.0], predict-[4.49]\n",
      "valid-example 4/5: expect-[3.0], predict-[3.2]\n",
      "valid-example 5/5: expect-[4.0], predict-[3.57]\n",
      "\n",
      "********** begin with hidden_dim = 25 **********\n",
      "\n",
      "epoch   100/  200, train-[loss: 0.2249 | metric: 0.5263]; valid-[loss: 0.4477 | metric: 0.7430]; \n",
      "valid-example 1/5: expect-[3.0], predict-[3.23]\n",
      "valid-example 2/5: expect-[3.0], predict-[3.76]\n",
      "valid-example 3/5: expect-[2.0], predict-[2.38]\n",
      "valid-example 4/5: expect-[3.0], predict-[3.68]\n",
      "valid-example 5/5: expect-[4.0], predict-[3.83]\n",
      "\n",
      "epoch   200/  200, train-[loss: 0.2194 | metric: 0.5202]; valid-[loss: 0.4498 | metric: 0.7453]; \n",
      "valid-example 1/5: expect-[5.0], predict-[4.43]\n",
      "valid-example 2/5: expect-[4.0], predict-[4.05]\n",
      "valid-example 3/5: expect-[3.0], predict-[3.59]\n",
      "valid-example 4/5: expect-[3.0], predict-[2.95]\n",
      "valid-example 5/5: expect-[5.0], predict-[4.69]\n",
      "\n",
      "********** begin with hidden_dim = 30 **********\n",
      "\n",
      "epoch   100/  200, train-[loss: 0.2187 | metric: 0.5193]; valid-[loss: 0.4546 | metric: 0.7491]; \n",
      "valid-example 1/5: expect-[3.0], predict-[3.31]\n",
      "valid-example 2/5: expect-[3.0], predict-[2.47]\n",
      "valid-example 3/5: expect-[5.0], predict-[4.82]\n",
      "valid-example 4/5: expect-[4.0], predict-[4.3]\n",
      "valid-example 5/5: expect-[4.0], predict-[5.06]\n",
      "\n",
      "epoch   200/  200, train-[loss: 0.2134 | metric: 0.5130]; valid-[loss: 0.4491 | metric: 0.7431]; \n",
      "valid-example 1/5: expect-[4.0], predict-[3.58]\n",
      "valid-example 2/5: expect-[4.0], predict-[4.47]\n",
      "valid-example 3/5: expect-[4.0], predict-[2.56]\n",
      "valid-example 4/5: expect-[4.0], predict-[1.98]\n",
      "valid-example 5/5: expect-[2.0], predict-[3.69]\n"
     ]
    },
    {
     "data": {
      "image/png": "[encoded data removed]",
      "text/plain": [
       "<Figure size 432x288 with 1 Axes>"
      ]
     },
     "metadata": {
      "needs_background": "light"
     },
     "output_type": "display_data"
    },
    {
     "data": {
      "image/png": "[encoded data removed]",
      "text/plain": [
       "<Figure size 432x288 with 1 Axes>"
      ]
     },
     "metadata": {
      "needs_background": "light"
     },
     "output_type": "display_data"
    },
    {
     "data": {
      "image/png": "[encoded data removed]",
      "text/plain": [
       "<Figure size 432x288 with 1 Axes>"
      ]
     },
     "metadata": {
      "needs_background": "light"
     },
     "output_type": "display_data"
    }
   ],
   "source": [
    "hs = [1, 5, 10, 15, 20, 25, 30]\n",
    "h2tr_mae = []\n",
    "h2val_mae = []\n",
    "h2tr_losses = []\n",
    "h2val_losses = []\n",
    "\n",
    "for h in hs:\n",
    "    print()\n",
    "    print(10*'*' + ' begin with hidden_dim = %d ' % h + 10*'*')\n",
    "    model = MF(h=h)\n",
    "    model.fit(X_train, y_train,\n",
    "              verbose=100, epochs=200,\n",
    "              validation_data=(X_val, y_val),\n",
    "              batch_size=256, metric='MAE',\n",
    "              shuffle=True,\n",
    "              peek_type='single-reg')\n",
    "    train_y_hat = model.forward(X_train)\n",
    "    val_y_hat = model.forward(X_val)\n",
    "    training_error = absolute_error(y_train, train_y_hat) / y_train.shape[0]\n",
    "    val_error = absolute_error(y_val, val_y_hat) / y_val.shape[0]\n",
    "    \n",
    "    performance = model.best_performance(bigger=False)\n",
    "    \n",
    "    h2tr_mae.append(performance['train_set']['best_metric'])\n",
    "    h2val_mae.append(performance['val_set']['best_metric'])\n",
    "    \n",
    "    h2tr_losses.append(model.train_losses)\n",
    "    h2val_losses.append(model.validation_losses)\n",
    "    \n",
    "plt.plot(hs, h2tr_mae, label='Train', marker='v')\n",
    "plt.plot(hs, h2val_mae, label='Val', marker='v')\n",
    "plt.legend()\n",
    "plt.xlabel('hidden dimension')\n",
    "plt.ylabel('$MAE$')\n",
    "plt.savefig('h_mae.png', dpi=300)\n",
    "plt.show()\n",
    "\n",
    "for idx in range(len(h2tr_losses)):\n",
    "    plt.plot(h2tr_losses[idx], label='hidden_dim = %d' % hs[idx])\n",
    "plt.legend()\n",
    "plt.ylabel('$MSE_{train}$')\n",
    "plt.xlabel('$epoch$')\n",
    "plt.savefig('h_tr_losses.png', dpi=300)\n",
    "plt.show()\n",
    "\n",
    "for idx in range(len(h2val_losses)):\n",
    "    plt.plot(h2val_losses[idx], label='hidden_dim = %d' % hs[idx])\n",
    "plt.legend()\n",
    "plt.ylabel('$MSE_{val}$')\n",
    "plt.xlabel('$epoch$')\n",
    "plt.savefig('h_val_losses.png', dpi=300)\n",
    "plt.show()"
   ]
  },
  {
   "cell_type": "markdown",
   "metadata": {},
   "source": [
    "Now we print out the performance of MF under different $h$ in both training set and validation set. "
   ]
  },
  {
   "cell_type": "code",
   "execution_count": 6,
   "metadata": {},
   "outputs": [
    {
     "name": "stdout",
     "output_type": "stream",
     "text": [
      "hidden dim: 1, training MAE: 0.7211, val MAE: 0.7522.\n",
      "hidden dim: 5, training MAE: 0.6216, val MAE: 0.7276.\n",
      "hidden dim: 10, training MAE: 0.5758, val MAE: 0.7259.\n",
      "hidden dim: 15, training MAE: 0.5478, val MAE: 0.7262.\n",
      "hidden dim: 20, training MAE: 0.5302, val MAE: 0.7265.\n",
      "hidden dim: 25, training MAE: 0.5191, val MAE: 0.7321.\n",
      "hidden dim: 30, training MAE: 0.5124, val MAE: 0.7349.\n"
     ]
    }
   ],
   "source": [
    "for idx in range(len(hs)):\n",
    "    print('hidden dim: %d, training MAE: %.4f, val MAE: %.4f.' % (hs[idx], h2tr_mae[idx], h2val_mae[idx]))"
   ]
  },
  {
   "cell_type": "markdown",
   "metadata": {},
   "source": [
    "## Loss function's impact.\n",
    "Now, we explore the impact of loss function in Matrix Factrization (MF). specifically, we set $loss_fn$ in [MAE, MSE, HB], where HB is huber loss.\n",
    "1. $MAE(y, \\hat{y}) = \\frac{1}{m}\\Sigma_{i=1}^{m}|y_i - \\hat{y_i}|$ \n",
    "\n",
    "2. $MSE(y, \\hat{y}) = \\frac{1}{2m}\\Sigma_{i=1}^{m}(y_i - \\hat{y_i})^2$ \n",
    "\n",
    "3. $HB(y, \\hat{y}) = \\frac{1}{m}\\Sigma_{i=1}^{m}L_{\\delta }(y_i, \\hat{y_i}) $ \n",
    "where, $ L_{\\delta }(y_i,\\hat{y_i})={\\begin{cases}{\\frac  {1}{2}}(y_i-\\hat{y_i})^{2}&{\\textrm  {for}}~|y_i-\\hat{y_i}|\\leq \\delta ,\\\\\\delta \\,|y_i-\\hat{y_i}|-{\\frac  {1}{2}}\\delta ^{2}&{\\textrm  {otherwise.}}\\end{cases}}$ \n",
    "\n",
    "We set $\\delta = 1.$."
   ]
  },
  {
   "cell_type": "markdown",
   "metadata": {},
   "source": [
    "We first draw the three loss function e.g. $MAE(x)$, $MSE(x)$ and $HB(x)$."
   ]
  },
  {
   "cell_type": "code",
   "execution_count": 20,
   "metadata": {},
   "outputs": [
    {
     "data": {
      "image/png": "[encoded data removed]",
      "text/plain": [
       "<Figure size 432x288 with 1 Axes>"
      ]
     },
     "metadata": {
      "needs_background": "light"
     },
     "output_type": "display_data"
    }
   ],
   "source": [
    "def mae(x):\n",
    "    return np.abs(x)\n",
    "\n",
    "def mse(x):\n",
    "    return 0.5 * x ** 2\n",
    "\n",
    "def hb(x):\n",
    "    inner_part = np.abs(x) <= 1\n",
    "    outer_part = np.abs(x) > 1\n",
    "    return inner_part * 0.5 * x **2 + outer_part * (np.abs(x) - 0.5)\n",
    "\n",
    "\n",
    "x = np.arange(-5, 5, 0.02)\n",
    "plt.plot(x, mae(x), label='$MAE(x)$')\n",
    "plt.plot(x, mse(x), label='$MSE(x)$')\n",
    "plt.plot(x, hb(x), label='$HB(x)$')\n",
    "plt.legend()\n",
    "plt.savefig('loss_fns.png', dpi=300)\n",
    "plt.show()"
   ]
  },
  {
   "cell_type": "code",
   "execution_count": 9,
   "metadata": {},
   "outputs": [
    {
     "name": "stdout",
     "output_type": "stream",
     "text": [
      "\n",
      "********** begin with loss_fn = <class 'simple_ml.nn.loss.MeanAbsoluteLoss'> **********\n",
      "\n",
      "epoch   100/  200, train-[loss: 0.5399 | metric: 0.5399]; valid-[loss: 0.7488 | metric: 0.7488]; \n",
      "valid-example 1/5: expect-[3.0], predict-[3.98]\n",
      "valid-example 2/5: expect-[4.0], predict-[4.43]\n",
      "valid-example 3/5: expect-[3.0], predict-[3.99]\n",
      "valid-example 4/5: expect-[2.0], predict-[2.85]\n",
      "valid-example 5/5: expect-[4.0], predict-[3.4]\n",
      "\n",
      "epoch   200/  200, train-[loss: 0.5222 | metric: 0.5222]; valid-[loss: 0.7579 | metric: 0.7579]; \n",
      "valid-example 1/5: expect-[3.0], predict-[3.01]\n",
      "valid-example 2/5: expect-[4.0], predict-[4.93]\n",
      "valid-example 3/5: expect-[2.0], predict-[3.55]\n",
      "valid-example 4/5: expect-[4.0], predict-[4.51]\n",
      "valid-example 5/5: expect-[2.0], predict-[3.63]\n",
      "\n",
      "********** begin with loss_fn = <class 'simple_ml.nn.loss.MeanSquareLoss'> **********\n",
      "\n",
      "epoch   100/  200, train-[loss: 0.2753 | metric: 0.5835]; valid-[loss: 0.4395 | metric: 0.7355]; \n",
      "valid-example 1/5: expect-[3.0], predict-[3.42]\n",
      "valid-example 2/5: expect-[3.0], predict-[3.32]\n",
      "valid-example 3/5: expect-[3.0], predict-[2.79]\n",
      "valid-example 4/5: expect-[5.0], predict-[3.66]\n",
      "valid-example 5/5: expect-[5.0], predict-[4.29]\n",
      "\n",
      "epoch   200/  200, train-[loss: 0.2690 | metric: 0.5762]; valid-[loss: 0.4431 | metric: 0.7380]; \n",
      "valid-example 1/5: expect-[3.0], predict-[2.86]\n",
      "valid-example 2/5: expect-[5.0], predict-[4.48]\n",
      "valid-example 3/5: expect-[3.0], predict-[3.15]\n",
      "valid-example 4/5: expect-[5.0], predict-[4.25]\n",
      "valid-example 5/5: expect-[3.0], predict-[3.55]\n",
      "\n",
      "********** begin with loss_fn = <class 'simple_ml.nn.loss.HuberLoss'> **********\n",
      "\n",
      "epoch   100/  200, train-[loss: 0.2721 | metric: 0.6029]; valid-[loss: 0.3662 | metric: 0.7245]; \n",
      "valid-example 1/5: expect-[4.0], predict-[3.89]\n",
      "valid-example 2/5: expect-[3.0], predict-[3.66]\n",
      "valid-example 3/5: expect-[4.0], predict-[2.82]\n",
      "valid-example 4/5: expect-[4.0], predict-[3.1]\n",
      "valid-example 5/5: expect-[4.0], predict-[3.0]\n",
      "\n",
      "epoch   200/  200, train-[loss: 0.2645 | metric: 0.5929]; valid-[loss: 0.3676 | metric: 0.7265]; \n",
      "valid-example 1/5: expect-[3.0], predict-[3.25]\n",
      "valid-example 2/5: expect-[3.0], predict-[4.01]\n",
      "valid-example 3/5: expect-[5.0], predict-[4.0]\n",
      "valid-example 4/5: expect-[5.0], predict-[3.68]\n",
      "valid-example 5/5: expect-[3.0], predict-[3.35]\n"
     ]
    },
    {
     "data": {
      "image/png": "[encoded data removed]",
      "text/plain": [
       "<Figure size 432x288 with 1 Axes>"
      ]
     },
     "metadata": {
      "needs_background": "light"
     },
     "output_type": "display_data"
    }
   ],
   "source": [
    "loss_fns = [MAE, MSE, HuberLoss]\n",
    "loss_name = ['MAE', 'MSE', 'HB']\n",
    "loss2valmetrices = []\n",
    "loss2val_best_metric = []\n",
    "\n",
    "for loss in loss_fns:\n",
    "    print()\n",
    "    print(10*'*' + ' begin with loss_fn = %s ' % str(loss) + 10*'*')\n",
    "    model = MF(loss_fn=loss)\n",
    "    model.fit(X_train, y_train,\n",
    "              verbose=100, epochs=200,\n",
    "              validation_data=(X_val, y_val),\n",
    "              batch_size=256, metric='MAE',\n",
    "              shuffle=True,\n",
    "              peek_type='single-reg')\n",
    "    \n",
    "    performance = model.best_performance(bigger=False)\n",
    "    \n",
    "    loss2val_best_metric.append(performance['val_set']['best_metric'])\n",
    "    \n",
    "    loss2valmetrices.append(model.validation_metrics)\n",
    "\n",
    "for idx in range(len(loss_fns)):\n",
    "    plt.plot(loss2valmetrices[idx], label='loss_fn = %s' % loss_name[idx])\n",
    "plt.legend()\n",
    "plt.ylabel('$MAE_{val}$')\n",
    "plt.xlabel('$epoch$')\n",
    "plt.savefig('loss_val_mae.png', dpi=300)\n",
    "plt.show()"
   ]
  },
  {
   "cell_type": "markdown",
   "metadata": {},
   "source": [
    "Now we print out the performance of MF under different $loss_{fn}$ in validation set. "
   ]
  },
  {
   "cell_type": "code",
   "execution_count": 24,
   "metadata": {},
   "outputs": [
    {
     "name": "stdout",
     "output_type": "stream",
     "text": [
      "Loss func: <class 'simple_ml.nn.loss.MeanAbsoluteLoss'>, Val Mae: 0.7293\n",
      "Loss func: <class 'simple_ml.nn.loss.MeanSquareLoss'>, Val Mae: 0.7244\n",
      "Loss func: <class 'simple_ml.nn.loss.HuberLoss'>, Val Mae: 0.7217\n"
     ]
    }
   ],
   "source": [
    "for idx in range(len(loss_fns)):\n",
    "    print('Loss func: %s, Val Mae: %.4f' % (str(loss_fns[idx]), loss2val_best_metric[idx]))"
   ]
  },
  {
   "cell_type": "markdown",
   "metadata": {},
   "source": [
    "## Regularizer's impact.\n",
    "Now, we explore the impact of regularizer in Matrix Factrization (MF). specifically, we set $reg$ in [L1, L2, L1_L2].\n",
    "\n",
    "We first draw the three loss function e.g. $L1(x)$, $L2(x)$ and $L1\\_L2(x)$. With penalty cofficient = 0.01."
   ]
  },
  {
   "cell_type": "code",
   "execution_count": 22,
   "metadata": {},
   "outputs": [
    {
     "data": {
      "image/png": "[encoded data removed]",
      "text/plain": [
       "<Figure size 432x288 with 1 Axes>"
      ]
     },
     "metadata": {
      "needs_background": "light"
     },
     "output_type": "display_data"
    }
   ],
   "source": [
    "def l1(x, l=0.01):\n",
    "    return l * np.abs(x)\n",
    "\n",
    "def l2(x, l=0.01):\n",
    "    return l * 0.5 * x ** 2\n",
    "\n",
    "def l1_l2(x, l=0.01):\n",
    "    return 0.5 * l1(x, l) + 0.5 * l2(x, l)\n",
    "\n",
    "\n",
    "x = np.arange(-5, 5, 0.02)\n",
    "plt.plot(x, l1(x), label='$L1(w)$')\n",
    "plt.plot(x, l2(x), label='$L2(w)$')\n",
    "plt.plot(x, l1_l2(x), label='$L1\\_ L2(w)$')\n",
    "plt.legend()\n",
    "plt.savefig('regs.png', dpi=300)\n",
    "plt.show()"
   ]
  },
  {
   "cell_type": "code",
   "execution_count": 28,
   "metadata": {},
   "outputs": [
    {
     "name": "stdout",
     "output_type": "stream",
     "text": [
      "\n",
      "********** begin with reg = <class 'simple_ml.nn.regularizer.L1'> **********\n",
      "\n",
      "epoch   100/  200, train-[loss: 0.4336 | metric: 0.7396]; valid-[loss: 0.4513 | metric: 0.7565]; \n",
      "valid-example 1/5: expect-[5.0], predict-[3.17]\n",
      "valid-example 2/5: expect-[2.0], predict-[2.55]\n",
      "valid-example 3/5: expect-[3.0], predict-[2.51]\n",
      "valid-example 4/5: expect-[4.0], predict-[3.04]\n",
      "valid-example 5/5: expect-[5.0], predict-[2.48]\n",
      "\n",
      "epoch   200/  200, train-[loss: 0.4335 | metric: 0.7397]; valid-[loss: 0.4518 | metric: 0.7572]; \n",
      "valid-example 1/5: expect-[5.0], predict-[4.7]\n",
      "valid-example 2/5: expect-[5.0], predict-[4.31]\n",
      "valid-example 3/5: expect-[4.0], predict-[3.35]\n",
      "valid-example 4/5: expect-[3.0], predict-[3.79]\n",
      "valid-example 5/5: expect-[3.0], predict-[2.79]\n",
      "\n",
      "********** begin with reg = <class 'simple_ml.nn.regularizer.L2'> **********\n",
      "\n",
      "epoch   100/  200, train-[loss: 0.2742 | metric: 0.5822]; valid-[loss: 0.4402 | metric: 0.7390]; \n",
      "valid-example 1/5: expect-[4.0], predict-[3.9]\n",
      "valid-example 2/5: expect-[4.0], predict-[4.2]\n",
      "valid-example 3/5: expect-[1.0], predict-[2.8]\n",
      "valid-example 4/5: expect-[5.0], predict-[3.98]\n",
      "valid-example 5/5: expect-[4.0], predict-[3.77]\n",
      "\n",
      "epoch   200/  200, train-[loss: 0.2682 | metric: 0.5758]; valid-[loss: 0.4416 | metric: 0.7394]; \n",
      "valid-example 1/5: expect-[3.0], predict-[4.57]\n",
      "valid-example 2/5: expect-[3.0], predict-[3.75]\n",
      "valid-example 3/5: expect-[1.0], predict-[0.7]\n",
      "valid-example 4/5: expect-[5.0], predict-[4.97]\n",
      "valid-example 5/5: expect-[4.0], predict-[2.75]\n",
      "\n",
      "********** begin with reg = <class 'simple_ml.nn.regularizer.L1L2'> **********\n",
      "\n",
      "epoch   100/  200, train-[loss: 0.2682 | metric: 0.5688]; valid-[loss: 0.5086 | metric: 0.7869]; \n",
      "valid-example 1/5: expect-[3.0], predict-[3.09]\n",
      "valid-example 2/5: expect-[4.0], predict-[3.22]\n",
      "valid-example 3/5: expect-[2.0], predict-[4.28]\n",
      "valid-example 4/5: expect-[3.0], predict-[3.82]\n",
      "valid-example 5/5: expect-[4.0], predict-[3.26]\n",
      "\n",
      "epoch   200/  200, train-[loss: 0.2478 | metric: 0.5453]; valid-[loss: 0.5544 | metric: 0.8132]; \n",
      "valid-example 1/5: expect-[3.0], predict-[4.03]\n",
      "valid-example 2/5: expect-[5.0], predict-[4.98]\n",
      "valid-example 3/5: expect-[5.0], predict-[4.49]\n",
      "valid-example 4/5: expect-[1.0], predict-[2.62]\n",
      "valid-example 5/5: expect-[5.0], predict-[4.48]\n"
     ]
    },
    {
     "data": {
      "image/png": "[encoded data removed]",
      "text/plain": [
       "<Figure size 432x288 with 1 Axes>"
      ]
     },
     "metadata": {
      "needs_background": "light"
     },
     "output_type": "display_data"
    }
   ],
   "source": [
    "regs = [L1_Regularizer, L2_Regularizer, L1L2_Regularizer]\n",
    "reg_names = ['L1', 'L2', 'L1\\_L2']\n",
    "reg2valmetrices = []\n",
    "reg2val_best_metric = []\n",
    "\n",
    "for reg in regs:\n",
    "    print()\n",
    "    print(10*'*' + ' begin with reg = %s ' % str(reg) + 10*'*')\n",
    "    model = MF(reg=reg)\n",
    "    model.fit(X_train, y_train,\n",
    "              verbose=100, epochs=200,\n",
    "              validation_data=(X_val, y_val),\n",
    "              batch_size=256, metric='MAE',\n",
    "              shuffle=True,\n",
    "              peek_type='single-reg')\n",
    "    \n",
    "    performance = model.best_performance(bigger=False)\n",
    "    \n",
    "    reg2val_best_metric.append(performance['val_set']['best_metric'])\n",
    "    \n",
    "    reg2valmetrices.append(model.validation_metrics)\n",
    "\n",
    "for idx in range(len(regs)):\n",
    "    plt.plot(reg2valmetrices[idx], label='regularizer = $%s$' % reg_names[idx])\n",
    "plt.legend()\n",
    "plt.ylabel('$MAE_{val}$')\n",
    "plt.xlabel('$epoch$')\n",
    "plt.savefig('reg_val_mae.png', dpi=300)\n",
    "plt.show()"
   ]
  },
  {
   "cell_type": "markdown",
   "metadata": {},
   "source": [
    "Now we print out the performance of MF under different $reg$ in validation set. "
   ]
  },
  {
   "cell_type": "code",
   "execution_count": 27,
   "metadata": {},
   "outputs": [
    {
     "name": "stdout",
     "output_type": "stream",
     "text": [
      "Reg: <class 'simple_ml.nn.regularizer.L1'>, Val Mae: 0.7537\n",
      "Reg: <class 'simple_ml.nn.regularizer.L2'>, Val Mae: 0.7243\n",
      "Reg: <class 'simple_ml.nn.regularizer.L1L2'>, Val Mae: 0.7358\n"
     ]
    }
   ],
   "source": [
    "for idx in range(len(regs)):\n",
    "    print('Reg: %s, Val Mae: %.4f' % (str(regs[idx]), reg2val_best_metric[idx]))"
   ]
  },
  {
   "cell_type": "markdown",
   "metadata": {},
   "source": [
    "##  Final performance"
   ]
  },
  {
   "cell_type": "code",
   "execution_count": 33,
   "metadata": {},
   "outputs": [
    {
     "name": "stdout",
     "output_type": "stream",
     "text": [
      "********** begin with best MF **********\n",
      "\n",
      "epoch    19/   38, train-[loss: 0.3310 | metric: 0.6792]; valid-[loss: 0.3666 | metric: 0.7251]; \n",
      "valid-example 1/5: expect-[4.0], predict-[3.55]\n",
      "valid-example 2/5: expect-[5.0], predict-[4.51]\n",
      "valid-example 3/5: expect-[2.0], predict-[2.68]\n",
      "valid-example 4/5: expect-[4.0], predict-[4.27]\n",
      "valid-example 5/5: expect-[5.0], predict-[3.89]\n",
      "\n",
      "epoch    38/   38, train-[loss: 0.3062 | metric: 0.6475]; valid-[loss: 0.3662 | metric: 0.7246]; \n",
      "valid-example 1/5: expect-[4.0], predict-[3.16]\n",
      "valid-example 2/5: expect-[5.0], predict-[3.94]\n",
      "valid-example 3/5: expect-[4.0], predict-[2.89]\n",
      "valid-example 4/5: expect-[1.0], predict-[2.81]\n",
      "valid-example 5/5: expect-[4.0], predict-[3.96]\n",
      "\n",
      "Training MAE: 0.6342\n",
      "Val MAE: 0.7246\n",
      "Test MAE: 0.7294\n"
     ]
    }
   ],
   "source": [
    "print(10 * '*' + ' begin with best MF ' + 10 * '*')\n",
    "model = MF(h=10, reg=L2_Regularizer, loss_fn=HuberLoss)\n",
    "model.fit(X_train, y_train,\n",
    "          verbose=19, epochs=38,\n",
    "          validation_data=(X_val, y_val),\n",
    "          batch_size=256, metric='MAE',\n",
    "          shuffle=True,\n",
    "          peek_type='single-reg')\n",
    "train_y_hat = model.forward(X_train)\n",
    "val_y_hat = model.forward(X_val)\n",
    "test_y_hat = model.forward(X_test)\n",
    "training_error = absolute_error(y_train, train_y_hat) / y_train.shape[0]\n",
    "val_error = absolute_error(y_val, val_y_hat) / y_val.shape[0]\n",
    "test_error = absolute_error(y_test, test_y_hat) / y_test.shape[0]\n",
    "\n",
    "print()\n",
    "print('Training MAE: %.4f' % training_error)\n",
    "print('Val MAE: %.4f' % val_error)\n",
    "print('Test MAE: %.4f' % test_error)"
   ]
  }
 ],
 "metadata": {
  "kernelspec": {
   "display_name": "Python 3",
   "language": "python",
   "name": "python3"
  },
  "language_info": {
   "codemirror_mode": {
    "name": "ipython",
    "version": 3
   },
   "file_extension": ".py",
   "mimetype": "text/x-python",
   "name": "python",
   "nbconvert_exporter": "python",
   "pygments_lexer": "ipython3",
   "version": "3.7.3"
  },
  "pycharm": {
   "stem_cell": {
    "cell_type": "raw",
    "metadata": {
     "collapsed": false
    },
    "source": []
   }
  }
 },
 "nbformat": 4,
 "nbformat_minor": 1
}
