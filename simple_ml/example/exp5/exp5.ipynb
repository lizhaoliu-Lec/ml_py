{
 "cells": [
  {
   "cell_type": "markdown",
   "metadata": {},
   "source": [
    "# Experiment-3: Recommendation System Based on Matrix Factorization\n",
    "## In this experiment, we will: \n",
    "- (1) Get more intuitions about Matrix Decomposition. \n",
    "- (2) Get your hands dirty on MovieLens-100k dataset, which contains 10,000 comments from 943 users out of 1682 movies. \n",
    "- (3) Get some intuition about hidden dimension's impact.\n",
    "- (4) Get some intuition about loss function's impact.\n",
    "- (5) Get some intuition about regularizer's impact.\n",
    "### As usual, in this experiment, we will use the mini framework [simple_ml](https://github.com/lizhaoliu-Lec/simple_ml)."
   ]
  },
  {
   "cell_type": "code",
   "execution_count": 1,
   "metadata": {
    "pycharm": {
     "is_executing": false,
     "name": "#%%\n"
    }
   },
   "outputs": [
    {
     "name": "stdout",
     "output_type": "stream",
     "text": [
      "Requirement already satisfied: simple_machine_learning in d:\\anaconda3\\envs\\ml\\lib\\site-packages (0.1.4)\n",
      "Requirement already satisfied: scikit-learn>=0.21.3 in d:\\anaconda3\\envs\\ml\\lib\\site-packages (from simple_machine_learning) (0.21.3)\n",
      "Requirement already satisfied: numpy>=1.16.4 in d:\\anaconda3\\envs\\ml\\lib\\site-packages (from simple_machine_learning) (1.17.3)\n",
      "Requirement already satisfied: tqdm>=4.32.1 in d:\\anaconda3\\envs\\ml\\lib\\site-packages (from simple_machine_learning) (4.37.0)\n",
      "Requirement already satisfied: scipy>=1.2.1 in d:\\anaconda3\\envs\\ml\\lib\\site-packages (from simple_machine_learning) (1.3.1)\n",
      "Requirement already satisfied: setuptools>=41.0.1 in d:\\anaconda3\\envs\\ml\\lib\\site-packages (from simple_machine_learning) (41.6.0.post20191030)\n",
      "Requirement already satisfied: Pillow>=6.2.1 in d:\\anaconda3\\envs\\ml\\lib\\site-packages (from simple_machine_learning) (6.2.1)\n",
      "Requirement already satisfied: pandas>=0.24.2 in d:\\anaconda3\\envs\\ml\\lib\\site-packages (from simple_machine_learning) (0.25.3)\n",
      "Requirement already satisfied: matplotlib>=3.1.0 in d:\\anaconda3\\envs\\ml\\lib\\site-packages (from simple_machine_learning) (3.1.1)\n",
      "Requirement already satisfied: joblib>=0.11 in d:\\anaconda3\\envs\\ml\\lib\\site-packages (from scikit-learn>=0.21.3->simple_machine_learning) (0.14.0)\n",
      "Requirement already satisfied: pytz>=2017.2 in d:\\anaconda3\\envs\\ml\\lib\\site-packages (from pandas>=0.24.2->simple_machine_learning) (2019.3)\n",
      "Requirement already satisfied: python-dateutil>=2.6.1 in d:\\anaconda3\\envs\\ml\\lib\\site-packages (from pandas>=0.24.2->simple_machine_learning) (2.8.1)\n",
      "Requirement already satisfied: cycler>=0.10 in d:\\anaconda3\\envs\\ml\\lib\\site-packages (from matplotlib>=3.1.0->simple_machine_learning) (0.10.0)\n",
      "Requirement already satisfied: kiwisolver>=1.0.1 in d:\\anaconda3\\envs\\ml\\lib\\site-packages (from matplotlib>=3.1.0->simple_machine_learning) (1.1.0)\n",
      "Requirement already satisfied: pyparsing!=2.0.4,!=2.1.2,!=2.1.6,>=2.0.1 in d:\\anaconda3\\envs\\ml\\lib\\site-packages (from matplotlib>=3.1.0->simple_machine_learning) (2.4.2)\n",
      "Requirement already satisfied: six>=1.5 in d:\\anaconda3\\envs\\ml\\lib\\site-packages (from python-dateutil>=2.6.1->pandas>=0.24.2->simple_machine_learning) (1.12.0)\n",
      "Note: you may need to restart the kernel to use updated packages.\n"
     ]
    }
   ],
   "source": [
    "# as usual, do a little setup\n",
    "%pip install simple_machine_learning\n",
    "import os\n",
    "import random\n",
    "import pickle\n",
    "import numpy as np\n",
    "\n",
    "from tqdm import tqdm\n",
    "from PIL import Image\n",
    "\n",
    "from sklearn.tree import DecisionTreeClassifier\n",
    "from simple_ml.preprocessing import NPDFeature\n",
    "from simple_ml.ensemble import AdaBoostClassifier\n",
    "\n",
    "import matplotlib.pyplot as plt\n",
    "\n",
    "%matplotlib inline\n",
    "plt.rcParams['figure.figsize'] = (10.0, 8.0) # set default size of plots\n",
    "plt.rcParams['image.interpolation'] = 'nearest'\n",
    "plt.rcParams['image.cmap'] = 'gray'\n",
    "\n",
    "# for auto-reloading external modules\n",
    "# see http://stackoverflow.com/questions/1907993/autoreload-of-modules-in-ipython\n",
    "%load_ext autoreload\n",
    "%autoreload 2"
   ]
  },
  {
   "cell_type": "code",
   "execution_count": 2,
   "metadata": {
    "pycharm": {
     "is_executing": false,
     "name": "#%%\n"
    }
   },
   "outputs": [
    {
     "name": "stdout",
     "output_type": "stream",
     "text": [
      "X train:  (700, 165600)  y train:  (700, 1)\n",
      "X val:  (100, 165600)  y val:  (100, 1)\n",
      "X test:  (200, 165600)  y test:  (200, 1)\n",
      "We have `700` training examples, `100` validation examples and `200` test examples\n",
      "X_train shape:  (700, 165600) , X_val shape:  (100, 165600) , X_test shape:  (200, 165600)\n",
      "y_train shape:  (700, 1) , y_val shape:  (100, 1) , y_test shape:  (200, 1)\n"
     ]
    }
   ],
   "source": [
    "# load the data.\n",
    "\n",
    "def convert_data_to_npd_feats(data_path='..\\\\tmp\\\\exp3', size=24, val_split=0.1, test_split=0.2, seed=1234):\n",
    "    face_img_root = os.path.join(data_path, 'face')\n",
    "    non_img_root = os.path.join(data_path, 'nonface')\n",
    "    faces_img_paths = os.listdir(face_img_root)\n",
    "    non_img_paths = os.listdir(non_img_root)\n",
    "    faces_img_paths = [os.path.join(face_img_root, i) for i in faces_img_paths]\n",
    "    non_img_paths = [os.path.join(non_img_root, i) for i in non_img_paths]\n",
    "\n",
    "    root_name = 'x'.join([str(size), str(size)])\n",
    "    root_name = 'npd_' + root_name\n",
    "    root_path = os.path.join(data_path, root_name)\n",
    "    if not os.path.exists(root_path):\n",
    "        os.makedirs(root_path)\n",
    "    all_Xy_data_path = os.path.join(root_path, 'data.bin')\n",
    "\n",
    "    if not os.path.exists(all_Xy_data_path):\n",
    "        # get face images\n",
    "        face_imgs = []\n",
    "        for face_img in tqdm(faces_img_paths):\n",
    "            im = Image.open(face_img, mode='r').convert('L')\n",
    "            im = im.resize((size, size), Image.ANTIALIAS)\n",
    "            im = np.asarray(im)\n",
    "            npd = NPDFeature(image=im)\n",
    "            im = npd.extract()\n",
    "            face_imgs.append(im)\n",
    "        face_arrays = np.array(face_imgs)\n",
    "        face_labels = np.ones((face_arrays.shape[0], 1))\n",
    "        # get non face images\n",
    "        non_imgs = []\n",
    "        for non_img in tqdm(non_img_paths):\n",
    "            im = Image.open(non_img, mode='r').convert('L')\n",
    "            im = im.resize((size, size), Image.ANTIALIAS)\n",
    "            im = np.asarray(im)\n",
    "            npd = NPDFeature(image=im)\n",
    "            im = npd.extract()\n",
    "            non_imgs.append(im)\n",
    "        non_arrays = np.array(non_imgs)\n",
    "        non_labels = -1 * np.ones((non_arrays.shape[0], 1))\n",
    "\n",
    "        X = np.concatenate([face_arrays, non_arrays], axis=0)\n",
    "        y = np.concatenate([face_labels, non_labels], axis=0)\n",
    "\n",
    "        rand_idx = [_ for _ in range(X.shape[0])]\n",
    "        random.seed(seed)\n",
    "        random.shuffle(rand_idx)\n",
    "        X = X[rand_idx]\n",
    "        y = y[rand_idx]\n",
    "        total_size = X.shape[0]\n",
    "        train_size = int(total_size * (1 - val_split - test_split))\n",
    "        val_size = train_size + int(total_size * val_split)\n",
    "        X_train, y_train = X[:train_size] / 255.0, y[:train_size]\n",
    "        X_val, y_val = X[train_size:val_size] / 255.0, y[train_size:val_size]\n",
    "        X_test, y_test = X[val_size:] / 255.0, y[val_size:]\n",
    "        pickle.dump([X_train, y_train, X_val, y_val, X_test, y_test],\n",
    "                    file=open(all_Xy_data_path, mode='wb'))\n",
    "    else:\n",
    "        X_train, y_train, X_val, y_val, X_test, y_test = pickle.load(file=open(all_Xy_data_path, mode='rb'))\n",
    "    print('X train: ', X_train.shape, ' y train: ', y_train.shape)\n",
    "    print('X val: ', X_val.shape, ' y val: ', y_val.shape)\n",
    "    print('X test: ', X_test.shape, ' y test: ', y_test.shape)\n",
    "    return X_train, y_train, X_val, y_val, X_test, y_test\n",
    "\n",
    "X_train, y_train, X_val, y_val, X_test, y_test = convert_data_to_npd_feats()\n",
    "print('We have `%d` training examples, `%d` validation examples and `%d` test examples' % (X_train.shape[0], X_val.shape[0],X_test.shape[0]))\n",
    "print('X_train shape: ', X_train.shape, ', X_val shape: ', X_val.shape, ', X_test shape: ', X_test.shape)\n",
    "print('y_train shape: ', y_train.shape, ', y_val shape: ', y_val.shape, ', y_test shape: ', y_test.shape)"
   ]
  },
  {
   "cell_type": "markdown",
   "metadata": {
    "pycharm": {
     "name": "#%% md\n"
    }
   },
   "source": [
    "We show the error rate to alpha in adaboost. \n",
    "We can see that, as the error rate goes up, alpha goes down.\n"
   ]
  },
  {
   "cell_type": "code",
   "execution_count": 3,
   "metadata": {
    "pycharm": {
     "is_executing": false,
     "name": "#%%\n"
    }
   },
   "outputs": [
    {
     "data": {
      "image/png": "[encoded data removed]",
      "text/plain": [
       "<Figure size 432x288 with 1 Axes>"
      ]
     },
     "metadata": {
      "needs_background": "light"
     },
     "output_type": "display_data"
    }
   ],
   "source": [
    "def error_to_alpha(x, eps=1e-8):\n",
    "    x = x.clip(min=eps, max=1-eps)\n",
    "    return 0.5 * np.log(1/x - 1)\n",
    "\n",
    "z = np.arange(0, 1, 0.2)\n",
    "e = error_to_alpha(z)\n",
    "plt.plot(z, e)\n",
    "plt.xlabel('error rate')\n",
    "plt.ylabel('alpha')\n",
    "# plt.savefig('loss_fn.png', dpi=300)\n",
    "plt.show()"
   ]
  },
  {
   "cell_type": "markdown",
   "metadata": {},
   "source": [
    "\n",
    "### Weak learner's Performance\n",
    "\n",
    "We first evaluate the weak learner's performance with different depth in DTC.\n",
    "\n",
    "We search depth in range(5) and validate the performance on validation set.\n",
    "\n",
    "We can see that, as DTC become depper, DTC from underfitting to overfitting, and the best depth is 4, which achieve 89% accuracy in validation set."
   ]
  },
  {
   "cell_type": "code",
   "execution_count": 4,
   "metadata": {
    "pycharm": {
     "name": "#%%\n"
    }
   },
   "outputs": [
    {
     "name": "stdout",
     "output_type": "stream",
     "text": [
      "********** begin with depth = 1 **********\n",
      "********** begin with depth = 2 **********\n",
      "********** begin with depth = 3 **********\n",
      "********** begin with depth = 4 **********\n",
      "********** begin with depth = 5 **********\n"
     ]
    },
    {
     "data": {
      "image/png": "[encoded data removed]",
      "text/plain": [
       "<Figure size 432x288 with 1 Axes>"
      ]
     },
     "metadata": {
      "needs_background": "light"
     },
     "output_type": "display_data"
    },
    {
     "name": "stdout",
     "output_type": "stream",
     "text": [
      "In validation set, best depth: 4, best accuracy: 0.8900\n"
     ]
    }
   ],
   "source": [
    "depths = [1, 2, 3, 4, 5]\n",
    "d2train_acc = []\n",
    "d2val_acc = []\n",
    "\n",
    "for d in depths:\n",
    "    print(10*'*' + ' begin with depth = %d ' % d + 10*'*')\n",
    "    weak = DecisionTreeClassifier(max_depth=d)\n",
    "    weak.fit(X_train, y_train)\n",
    "    y_val_pred = weak.predict(X_val)\n",
    "    y_train_pred = weak.predict(X_train)\n",
    "    d2train_acc.append(accuracy(y_train, y_train_pred))\n",
    "    d2val_acc.append(accuracy(y_val, y_val_pred))\n",
    "\n",
    "plt.plot(depths, d2train_acc, label='Train')\n",
    "plt.plot(depths, d2val_acc, label='Val')\n",
    "plt.legend()\n",
    "plt.xlabel('depth')\n",
    "plt.ylabel('Accuracy')\n",
    "plt.savefig('d_weak_acc.png', dpi=300)\n",
    "plt.show()\n",
    "\n",
    "max_idx = np.argmax(np.array(d2val_acc))\n",
    "print('In validation set, best depth: %d, best accuracy: %.4f' % (depths[max_idx], d2val_acc[max_idx]) )\n"
   ]
  },
  {
   "cell_type": "markdown",
   "metadata": {},
   "source": [
    "Now we explore the Adaboost's performance with different weak learner's performance.\n",
    "\n",
    "We set Adaboost's number of weak learner to 5 due to computation limitation."
   ]
  },
  {
   "cell_type": "code",
   "execution_count": 5,
   "metadata": {},
   "outputs": [
    {
     "name": "stdout",
     "output_type": "stream",
     "text": [
      "********** begin with depth = 1 **********\n"
     ]
    },
    {
     "name": "stderr",
     "output_type": "stream",
     "text": [
      "100%|████████████████████████████████████████████████████████████████████████████████████████████████████████████████████████████████████| 5/5 [01:42<00:00, 20.58s/it]\n"
     ]
    },
    {
     "name": "stdout",
     "output_type": "stream",
     "text": [
      "********** begin with depth = 2 **********\n"
     ]
    },
    {
     "name": "stderr",
     "output_type": "stream",
     "text": [
      "100%|████████████████████████████████████████████████████████████████████████████████████████████████████████████████████████████████████| 5/5 [03:07<00:00, 37.40s/it]\n"
     ]
    },
    {
     "name": "stdout",
     "output_type": "stream",
     "text": [
      "********** begin with depth = 3 **********\n"
     ]
    },
    {
     "name": "stderr",
     "output_type": "stream",
     "text": [
      "100%|████████████████████████████████████████████████████████████████████████████████████████████████████████████████████████████████████| 5/5 [04:42<00:00, 56.45s/it]\n"
     ]
    },
    {
     "name": "stdout",
     "output_type": "stream",
     "text": [
      "********** begin with depth = 4 **********\n"
     ]
    },
    {
     "name": "stderr",
     "output_type": "stream",
     "text": [
      "100%|████████████████████████████████████████████████████████████████████████████████████████████████████████████████████████████████████| 5/5 [05:46<00:00, 69.22s/it]\n"
     ]
    },
    {
     "name": "stdout",
     "output_type": "stream",
     "text": [
      "********** begin with depth = 5 **********\n"
     ]
    },
    {
     "name": "stderr",
     "output_type": "stream",
     "text": [
      "100%|████████████████████████████████████████████████████████████████████████████████████████████████████████████████████████████████████| 5/5 [05:50<00:00, 70.17s/it]\n"
     ]
    },
    {
     "data": {
      "image/png": "[encoded data removed]",
      "text/plain": [
       "<Figure size 432x288 with 1 Axes>"
      ]
     },
     "metadata": {
      "needs_background": "light"
     },
     "output_type": "display_data"
    },
    {
     "name": "stdout",
     "output_type": "stream",
     "text": [
      "In validation set, best depth: 4, best accuracy of Adaboost: 0.8900\n"
     ]
    }
   ],
   "source": [
    "depths = [1, 2, 3, 4, 5]\n",
    "d2train_acc_ad = []\n",
    "d2val_acc_ad = []\n",
    "\n",
    "number_of_weak_learner = 5\n",
    "\n",
    "for d in depths:\n",
    "    print(10*'*' + ' begin with depth = %d ' % d + 10*'*')\n",
    "    weak = DecisionTreeClassifier(max_depth=d)\n",
    "    ad = AdaBoostClassifier(weak, n_weakers_limit=number_of_weak_learner)\n",
    "    ad.fit(X_train, y_train, X_val, y_val, early_stop=True)\n",
    "    y_val_pred = ad.predict(X_val)\n",
    "    y_train_pred = ad.predict(X_train)\n",
    "    d2train_acc_ad.append(accuracy(y_train, y_train_pred))\n",
    "    d2val_acc_ad.append(accuracy(y_val, y_val_pred))\n",
    "\n",
    "plt.plot(depths, d2train_acc_ad, label='Train')\n",
    "plt.plot(depths, d2val_acc_ad, label='Val')\n",
    "plt.legend()\n",
    "plt.xlabel('depth')\n",
    "plt.ylabel('Accuracy')\n",
    "plt.savefig('d_ad_acc.png', dpi=300)\n",
    "plt.show()\n",
    "\n",
    "max_idx = np.argmax(np.array(d2val_acc))\n",
    "print('In validation set, best depth: %d, best accuracy of Adaboost: %.4f' % (depths[max_idx], d2val_acc[max_idx]) )"
   ]
  },
  {
   "cell_type": "markdown",
   "metadata": {},
   "source": [
    "Now we compare the performance of DTC and Adaboost with 5 DTC under different DTC's depths setting."
   ]
  },
  {
   "cell_type": "code",
   "execution_count": 8,
   "metadata": {},
   "outputs": [
    {
     "name": "stdout",
     "output_type": "stream",
     "text": [
      "depth: 1, DTC Acc_tr: 0.862857, AD Acc_tr: 0.970000, DTC Acc_val: 0.820000, AD Acc_val: 0.960000\n",
      "depth: 2, DTC Acc_tr: 0.935714, AD Acc_tr: 1.000000, DTC Acc_val: 0.880000, AD Acc_val: 0.910000\n",
      "depth: 3, DTC Acc_tr: 0.978571, AD Acc_tr: 1.000000, DTC Acc_val: 0.870000, AD Acc_val: 0.940000\n",
      "depth: 4, DTC Acc_tr: 0.995714, AD Acc_tr: 1.000000, DTC Acc_val: 0.890000, AD Acc_val: 0.930000\n",
      "depth: 5, DTC Acc_tr: 1.000000, AD Acc_tr: 1.000000, DTC Acc_val: 0.870000, AD Acc_val: 0.850000\n"
     ]
    },
    {
     "data": {
      "image/png": "[encoded data removed]",
      "text/plain": [
       "<Figure size 432x288 with 1 Axes>"
      ]
     },
     "metadata": {
      "needs_background": "light"
     },
     "output_type": "display_data"
    }
   ],
   "source": [
    "# print out the performance of DTC and Adaboost under different depth.\n",
    "\n",
    "for d, dtc_tr, ad_tr, dtc_val, ad_val in zip(depths, d2train_acc, d2train_acc_ad, d2val_acc, d2val_acc_ad):\n",
    "    print('depth: %d, DTC Acc_tr: %f, AD Acc_tr: %f, DTC Acc_val: %f, AD Acc_val: %f' % (d, dtc_tr, ad_tr, dtc_val, ad_val))\n",
    "    \n",
    "plt.plot(depths, d2train_acc_ad, label='Adaboost - Train')\n",
    "plt.plot(depths, d2val_acc_ad, label='Adaboost - Val')\n",
    "plt.plot(depths, d2train_acc, label='DTC - Train')\n",
    "plt.plot(depths, d2val_acc, label='DTC - Val')\n",
    "plt.legend()\n",
    "plt.xlabel('depth')\n",
    "plt.ylabel('Accuracy')\n",
    "plt.savefig('d_acc.png', dpi=300)\n",
    "plt.show()"
   ]
  },
  {
   "cell_type": "markdown",
   "metadata": {},
   "source": [
    "### Number of weak learner exploration\n",
    "In this section, we evaluate the performance of Adaboost as the number of weak learner goes up e.g. in range(1, 5).\n",
    "\n",
    "We first set the depth of DTC to 1 due to computation limitation. "
   ]
  },
  {
   "cell_type": "code",
   "execution_count": 9,
   "metadata": {},
   "outputs": [
    {
     "name": "stdout",
     "output_type": "stream",
     "text": [
      "********** begin with n = 1 **********\n"
     ]
    },
    {
     "name": "stderr",
     "output_type": "stream",
     "text": [
      "100%|████████████████████████████████████████████████████████████████████████████████████████████████████████████████████████████████████| 1/1 [00:20<00:00, 20.76s/it]\n"
     ]
    },
    {
     "name": "stdout",
     "output_type": "stream",
     "text": [
      "********** begin with n = 2 **********\n"
     ]
    },
    {
     "name": "stderr",
     "output_type": "stream",
     "text": [
      "100%|████████████████████████████████████████████████████████████████████████████████████████████████████████████████████████████████████| 2/2 [00:40<00:00, 20.01s/it]\n"
     ]
    },
    {
     "name": "stdout",
     "output_type": "stream",
     "text": [
      "********** begin with n = 3 **********\n"
     ]
    },
    {
     "name": "stderr",
     "output_type": "stream",
     "text": [
      "100%|████████████████████████████████████████████████████████████████████████████████████████████████████████████████████████████████████| 3/3 [01:00<00:00, 20.07s/it]\n"
     ]
    },
    {
     "name": "stdout",
     "output_type": "stream",
     "text": [
      "********** begin with n = 4 **********\n"
     ]
    },
    {
     "name": "stderr",
     "output_type": "stream",
     "text": [
      "100%|████████████████████████████████████████████████████████████████████████████████████████████████████████████████████████████████████| 4/4 [01:30<00:00, 22.65s/it]\n"
     ]
    },
    {
     "name": "stdout",
     "output_type": "stream",
     "text": [
      "********** begin with n = 5 **********\n"
     ]
    },
    {
     "name": "stderr",
     "output_type": "stream",
     "text": [
      "100%|████████████████████████████████████████████████████████████████████████████████████████████████████████████████████████████████████| 5/5 [01:42<00:00, 20.57s/it]\n"
     ]
    },
    {
     "data": {
      "image/png": "[encoded data removed]",
      "text/plain": [
       "<Figure size 432x288 with 1 Axes>"
      ]
     },
     "metadata": {
      "needs_background": "light"
     },
     "output_type": "display_data"
    }
   ],
   "source": [
    "numbers_of_weak_learner = [1, 2, 3, 4, 5]\n",
    "n2train_acc = []\n",
    "n2val_acc = []\n",
    "\n",
    "for n in numbers_of_weak_learner:\n",
    "    print(10*'*' + ' begin with n = %d ' % n + 10*'*')\n",
    "    weak = DecisionTreeClassifier(max_depth=1)\n",
    "    ad = AdaBoostClassifier(weak, n_weakers_limit=n)\n",
    "    ad.fit(X_train, y_train, X_val, y_val, early_stop=True)\n",
    "    y_val_pred = ad.predict(X_val)\n",
    "    y_train_pred = ad.predict(X_train)\n",
    "    n2train_acc.append(accuracy(y_train, y_train_pred))\n",
    "    n2val_acc.append(accuracy(y_val, y_val_pred))\n",
    "    \n",
    "plt.plot(numbers_of_weak_learner, n2train_acc, label='Train')\n",
    "plt.plot(numbers_of_weak_learner, n2val_acc, label='Val')\n",
    "plt.legend()\n",
    "plt.xlabel('number of weak learner')\n",
    "plt.ylabel('Accuracy')\n",
    "plt.savefig('n_ad_acc.png', dpi=300)"
   ]
  },
  {
   "cell_type": "markdown",
   "metadata": {},
   "source": [
    "Now we set the depth of DTC to from 1 to 5, and explore the performance of adaboost under different depth (1 to 5)'s settings."
   ]
  },
  {
   "cell_type": "code",
   "execution_count": 3,
   "metadata": {},
   "outputs": [
    {
     "name": "stdout",
     "output_type": "stream",
     "text": [
      "********** begin with d = 1 and n = 1 **********\n"
     ]
    },
    {
     "name": "stderr",
     "output_type": "stream",
     "text": [
      "100%|████████████████████████████████████████████████████████████████████████████████████| 1/1 [00:22<00:00, 22.26s/it]\n"
     ]
    },
    {
     "name": "stdout",
     "output_type": "stream",
     "text": [
      "********** begin with d = 1 and n = 2 **********\n"
     ]
    },
    {
     "name": "stderr",
     "output_type": "stream",
     "text": [
      "100%|████████████████████████████████████████████████████████████████████████████████████| 2/2 [00:38<00:00, 19.30s/it]\n"
     ]
    },
    {
     "name": "stdout",
     "output_type": "stream",
     "text": [
      "********** begin with d = 1 and n = 3 **********\n"
     ]
    },
    {
     "name": "stderr",
     "output_type": "stream",
     "text": [
      "100%|████████████████████████████████████████████████████████████████████████████████████| 3/3 [00:57<00:00, 19.12s/it]\n"
     ]
    },
    {
     "name": "stdout",
     "output_type": "stream",
     "text": [
      "********** begin with d = 1 and n = 4 **********\n"
     ]
    },
    {
     "name": "stderr",
     "output_type": "stream",
     "text": [
      "100%|████████████████████████████████████████████████████████████████████████████████████| 4/4 [01:17<00:00, 19.34s/it]\n"
     ]
    },
    {
     "name": "stdout",
     "output_type": "stream",
     "text": [
      "********** begin with d = 1 and n = 5 **********\n"
     ]
    },
    {
     "name": "stderr",
     "output_type": "stream",
     "text": [
      "100%|████████████████████████████████████████████████████████████████████████████████████| 5/5 [01:36<00:00, 19.23s/it]\n"
     ]
    },
    {
     "name": "stdout",
     "output_type": "stream",
     "text": [
      "********** begin with d = 2 and n = 1 **********\n"
     ]
    },
    {
     "name": "stderr",
     "output_type": "stream",
     "text": [
      "100%|████████████████████████████████████████████████████████████████████████████████████| 1/1 [00:35<00:00, 35.98s/it]\n"
     ]
    },
    {
     "name": "stdout",
     "output_type": "stream",
     "text": [
      "********** begin with d = 2 and n = 2 **********\n"
     ]
    },
    {
     "name": "stderr",
     "output_type": "stream",
     "text": [
      "100%|████████████████████████████████████████████████████████████████████████████████████| 2/2 [01:11<00:00, 35.76s/it]\n"
     ]
    },
    {
     "name": "stdout",
     "output_type": "stream",
     "text": [
      "********** begin with d = 2 and n = 3 **********\n"
     ]
    },
    {
     "name": "stderr",
     "output_type": "stream",
     "text": [
      "100%|████████████████████████████████████████████████████████████████████████████████████| 3/3 [01:46<00:00, 35.34s/it]\n"
     ]
    },
    {
     "name": "stdout",
     "output_type": "stream",
     "text": [
      "********** begin with d = 2 and n = 4 **********\n"
     ]
    },
    {
     "name": "stderr",
     "output_type": "stream",
     "text": [
      "100%|████████████████████████████████████████████████████████████████████████████████████| 4/4 [02:22<00:00, 35.61s/it]\n"
     ]
    },
    {
     "name": "stdout",
     "output_type": "stream",
     "text": [
      "********** begin with d = 2 and n = 5 **********\n"
     ]
    },
    {
     "name": "stderr",
     "output_type": "stream",
     "text": [
      "100%|████████████████████████████████████████████████████████████████████████████████████| 5/5 [02:57<00:00, 35.58s/it]\n"
     ]
    },
    {
     "name": "stdout",
     "output_type": "stream",
     "text": [
      "********** begin with d = 3 and n = 1 **********\n"
     ]
    },
    {
     "name": "stderr",
     "output_type": "stream",
     "text": [
      "100%|████████████████████████████████████████████████████████████████████████████████████| 1/1 [00:51<00:00, 51.09s/it]\n"
     ]
    },
    {
     "name": "stdout",
     "output_type": "stream",
     "text": [
      "********** begin with d = 3 and n = 2 **********\n"
     ]
    },
    {
     "name": "stderr",
     "output_type": "stream",
     "text": [
      "100%|████████████████████████████████████████████████████████████████████████████████████| 2/2 [01:43<00:00, 51.79s/it]\n"
     ]
    },
    {
     "name": "stdout",
     "output_type": "stream",
     "text": [
      "********** begin with d = 3 and n = 3 **********\n"
     ]
    },
    {
     "name": "stderr",
     "output_type": "stream",
     "text": [
      "100%|████████████████████████████████████████████████████████████████████████████████████| 3/3 [02:33<00:00, 51.32s/it]\n"
     ]
    },
    {
     "name": "stdout",
     "output_type": "stream",
     "text": [
      "********** begin with d = 3 and n = 4 **********\n"
     ]
    },
    {
     "name": "stderr",
     "output_type": "stream",
     "text": [
      "100%|████████████████████████████████████████████████████████████████████████████████████| 4/4 [03:25<00:00, 51.27s/it]\n"
     ]
    },
    {
     "name": "stdout",
     "output_type": "stream",
     "text": [
      "********** begin with d = 3 and n = 5 **********\n"
     ]
    },
    {
     "name": "stderr",
     "output_type": "stream",
     "text": [
      "100%|████████████████████████████████████████████████████████████████████████████████████| 5/5 [04:13<00:00, 50.68s/it]\n"
     ]
    },
    {
     "name": "stdout",
     "output_type": "stream",
     "text": [
      "********** begin with d = 4 and n = 1 **********\n"
     ]
    },
    {
     "name": "stderr",
     "output_type": "stream",
     "text": [
      "100%|████████████████████████████████████████████████████████████████████████████████████| 1/1 [00:59<00:00, 59.41s/it]\n"
     ]
    },
    {
     "name": "stdout",
     "output_type": "stream",
     "text": [
      "********** begin with d = 4 and n = 2 **********\n"
     ]
    },
    {
     "name": "stderr",
     "output_type": "stream",
     "text": [
      "100%|████████████████████████████████████████████████████████████████████████████████████| 2/2 [02:05<00:00, 62.64s/it]\n"
     ]
    },
    {
     "name": "stdout",
     "output_type": "stream",
     "text": [
      "********** begin with d = 4 and n = 3 **********\n"
     ]
    },
    {
     "name": "stderr",
     "output_type": "stream",
     "text": [
      "100%|████████████████████████████████████████████████████████████████████████████████████| 3/3 [03:08<00:00, 62.80s/it]\n"
     ]
    },
    {
     "name": "stdout",
     "output_type": "stream",
     "text": [
      "********** begin with d = 4 and n = 4 **********\n"
     ]
    },
    {
     "name": "stderr",
     "output_type": "stream",
     "text": [
      "100%|████████████████████████████████████████████████████████████████████████████████████| 4/4 [04:13<00:00, 63.37s/it]\n"
     ]
    },
    {
     "name": "stdout",
     "output_type": "stream",
     "text": [
      "********** begin with d = 4 and n = 5 **********\n"
     ]
    },
    {
     "name": "stderr",
     "output_type": "stream",
     "text": [
      "100%|████████████████████████████████████████████████████████████████████████████████████| 5/5 [05:19<00:00, 63.91s/it]\n"
     ]
    },
    {
     "name": "stdout",
     "output_type": "stream",
     "text": [
      "********** begin with d = 5 and n = 1 **********\n"
     ]
    },
    {
     "name": "stderr",
     "output_type": "stream",
     "text": [
      "100%|████████████████████████████████████████████████████████████████████████████████████| 1/1 [01:06<00:00, 66.16s/it]\n"
     ]
    },
    {
     "name": "stdout",
     "output_type": "stream",
     "text": [
      "********** begin with d = 5 and n = 2 **********\n"
     ]
    },
    {
     "name": "stderr",
     "output_type": "stream",
     "text": [
      "100%|████████████████████████████████████████████████████████████████████████████████████| 2/2 [02:12<00:00, 66.23s/it]\n"
     ]
    },
    {
     "name": "stdout",
     "output_type": "stream",
     "text": [
      "********** begin with d = 5 and n = 3 **********\n"
     ]
    },
    {
     "name": "stderr",
     "output_type": "stream",
     "text": [
      "100%|████████████████████████████████████████████████████████████████████████████████████| 3/3 [03:19<00:00, 66.58s/it]\n"
     ]
    },
    {
     "name": "stdout",
     "output_type": "stream",
     "text": [
      "********** begin with d = 5 and n = 4 **********\n"
     ]
    },
    {
     "name": "stderr",
     "output_type": "stream",
     "text": [
      "100%|████████████████████████████████████████████████████████████████████████████████████| 4/4 [04:25<00:00, 66.25s/it]\n"
     ]
    },
    {
     "name": "stdout",
     "output_type": "stream",
     "text": [
      "********** begin with d = 5 and n = 5 **********\n"
     ]
    },
    {
     "name": "stderr",
     "output_type": "stream",
     "text": [
      "100%|████████████████████████████████████████████████████████████████████████████████████| 5/5 [05:31<00:00, 66.31s/it]\n"
     ]
    },
    {
     "ename": "TypeError",
     "evalue": "not all arguments converted during string formatting",
     "output_type": "error",
     "traceback": [
      "\u001b[1;31m---------------------------------------------------------------------------\u001b[0m",
      "\u001b[1;31mTypeError\u001b[0m                                 Traceback (most recent call last)",
      "\u001b[1;32m<ipython-input-3-2b8a2fd7da2f>\u001b[0m in \u001b[0;36m<module>\u001b[1;34m\u001b[0m\n\u001b[0;32m     20\u001b[0m \u001b[1;33m\u001b[0m\u001b[0m\n\u001b[0;32m     21\u001b[0m \u001b[1;32mfor\u001b[0m \u001b[0midx\u001b[0m\u001b[1;33m,\u001b[0m \u001b[0md\u001b[0m \u001b[1;32min\u001b[0m \u001b[0menumerate\u001b[0m\u001b[1;33m(\u001b[0m\u001b[0mdepths\u001b[0m\u001b[1;33m)\u001b[0m\u001b[1;33m:\u001b[0m\u001b[1;33m\u001b[0m\u001b[1;33m\u001b[0m\u001b[0m\n\u001b[1;32m---> 22\u001b[1;33m     \u001b[0mplt\u001b[0m\u001b[1;33m.\u001b[0m\u001b[0mplot\u001b[0m\u001b[1;33m(\u001b[0m\u001b[0mnumbers_of_weak_learner\u001b[0m\u001b[1;33m,\u001b[0m \u001b[0md2n2train_acc\u001b[0m\u001b[1;33m[\u001b[0m\u001b[0midx\u001b[0m\u001b[1;33m]\u001b[0m\u001b[1;33m,\u001b[0m \u001b[0mlabel\u001b[0m\u001b[1;33m=\u001b[0m\u001b[1;34m'depth = d'\u001b[0m \u001b[1;33m%\u001b[0m \u001b[0md\u001b[0m\u001b[1;33m)\u001b[0m\u001b[1;33m\u001b[0m\u001b[1;33m\u001b[0m\u001b[0m\n\u001b[0m\u001b[0;32m     23\u001b[0m \u001b[0mplt\u001b[0m\u001b[1;33m.\u001b[0m\u001b[0mlegend\u001b[0m\u001b[1;33m(\u001b[0m\u001b[1;33m)\u001b[0m\u001b[1;33m\u001b[0m\u001b[1;33m\u001b[0m\u001b[0m\n\u001b[0;32m     24\u001b[0m \u001b[0mplt\u001b[0m\u001b[1;33m.\u001b[0m\u001b[0mxlabel\u001b[0m\u001b[1;33m(\u001b[0m\u001b[1;34m'number of weak learner'\u001b[0m\u001b[1;33m)\u001b[0m\u001b[1;33m\u001b[0m\u001b[1;33m\u001b[0m\u001b[0m\n",
      "\u001b[1;31mTypeError\u001b[0m: not all arguments converted during string formatting"
     ]
    }
   ],
   "source": [
    "numbers_of_weak_learner = [1, 2, 3, 4, 5]\n",
    "depths = [1, 2, 3, 4, 5]\n",
    "d2n2train_acc = []\n",
    "d2n2val_acc = []\n",
    "\n",
    "for d in depths:\n",
    "    n2train_acc = []\n",
    "    n2val_acc = []\n",
    "    for n in numbers_of_weak_learner:\n",
    "        print(10*'*' + ' begin with d = %d and n = %d ' % (d, n) + 10*'*')\n",
    "        weak = DecisionTreeClassifier(max_depth=d)\n",
    "        ad = AdaBoostClassifier(weak, n_weakers_limit=n)\n",
    "        ad.fit(X_train, y_train, X_val, y_val, early_stop=True)\n",
    "        y_val_pred = ad.predict(X_val)\n",
    "        y_train_pred = ad.predict(X_train)\n",
    "        n2train_acc.append(accuracy(y_train, y_train_pred))\n",
    "        n2val_acc.append(accuracy(y_val, y_val_pred))\n",
    "    d2n2train_acc.append(n2train_acc)\n",
    "    d2n2val_acc.append(n2val_acc)\n",
    "    "
   ]
  },
  {
   "cell_type": "code",
   "execution_count": 9,
   "metadata": {},
   "outputs": [
    {
     "data": {
      "image/png": "[encoded data removed]",
      "text/plain": [
       "<Figure size 432x288 with 1 Axes>"
      ]
     },
     "metadata": {
      "needs_background": "light"
     },
     "output_type": "display_data"
    },
    {
     "data": {
      "image/png": "[encoded data removed]",
      "text/plain": [
       "<Figure size 432x288 with 1 Axes>"
      ]
     },
     "metadata": {
      "needs_background": "light"
     },
     "output_type": "display_data"
    }
   ],
   "source": [
    "for idx, d in enumerate(depths):\n",
    "    plt.plot(numbers_of_weak_learner, d2n2train_acc[idx], label='depth = %d' % d, marker='v')\n",
    "plt.legend()\n",
    "plt.xlabel('number of weak learner')\n",
    "plt.ylabel('Accuracy')\n",
    "plt.savefig('dn_ad_tr_acc.png', dpi=300)\n",
    "plt.show()\n",
    "\n",
    "for idx, d in enumerate(depths):\n",
    "    plt.plot(numbers_of_weak_learner, d2n2val_acc[idx], label='depth = %d' % d, marker='v')\n",
    "plt.legend()\n",
    "plt.xlabel('number of weak learner')\n",
    "plt.ylabel('Accuracy')\n",
    "plt.savefig('dn_ad_val_acc.png', dpi=300)\n",
    "plt.show()"
   ]
  },
  {
   "cell_type": "markdown",
   "metadata": {},
   "source": [
    "### Final Performance\n",
    "Now we get the final performance under best validation setting e.g. DTC's depth = 3 and number of weak learner = 5 in test set."
   ]
  },
  {
   "cell_type": "code",
   "execution_count": 12,
   "metadata": {},
   "outputs": [
    {
     "name": "stderr",
     "output_type": "stream",
     "text": [
      "100%|████████████████████████████████████████████████████████████████████████████████████| 5/5 [04:52<00:00, 58.58s/it]\n"
     ]
    },
    {
     "name": "stdout",
     "output_type": "stream",
     "text": [
      "Best performnce: Training set: 1.00; Validation set: 0.98; Test set: 0.97 \n"
     ]
    }
   ],
   "source": [
    "weak = DecisionTreeClassifier(max_depth=3)\n",
    "ad = AdaBoostClassifier(weak, n_weakers_limit=5)\n",
    "ad.fit(X_train, y_train, X_val, y_val, early_stop=True)\n",
    "y_val_pred = ad.predict(X_val)\n",
    "y_train_pred = ad.predict(X_train)\n",
    "y_test_pred = ad.predict(X_test)\n",
    "print('Best performnce: Training set: %.2f; Validation set: %.2f; Test set: %.2f ' % (accuracy(y_train, y_train_pred),\n",
    "                                                                                      accuracy(y_val, y_val_pred),\n",
    "                                                                                     accuracy(y_test, y_test_pred)))"
   ]
  },
  {
   "cell_type": "markdown",
   "metadata": {},
   "source": [
    "###  Open-CV library for face detection"
   ]
  },
  {
   "cell_type": "code",
   "execution_count": 15,
   "metadata": {},
   "outputs": [],
   "source": [
    "%run face_detection.py"
   ]
  }
 ],
 "metadata": {
  "kernelspec": {
   "display_name": "Python 3",
   "language": "python",
   "name": "python3"
  },
  "language_info": {
   "codemirror_mode": {
    "name": "ipython",
    "version": 3
   },
   "file_extension": ".py",
   "mimetype": "text/x-python",
   "name": "python",
   "nbconvert_exporter": "python",
   "pygments_lexer": "ipython3",
   "version": "3.6.9"
  },
  "pycharm": {
   "stem_cell": {
    "cell_type": "raw",
    "source": [],
    "metadata": {
     "collapsed": false
    }
   }
  }
 },
 "nbformat": 4,
 "nbformat_minor": 1
}