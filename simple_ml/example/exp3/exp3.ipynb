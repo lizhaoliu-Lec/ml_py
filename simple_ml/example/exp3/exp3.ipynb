{
 "cells": [
  {
   "cell_type": "markdown",
   "metadata": {},
   "source": [
    "# Experiment-3: AdaBoost for face classification and Open-CV for face detection \n",
    "## In this experiment, we will: \n",
    "- (1) Get more intuitions about AdaBoost. \n",
    "- (2) Get your hands dirty on self-constructed face/non-face dataset, which contains 500 256x256 face images and 500 32x32 non-face images. \n",
    "- (3) Get some experience about weak learner's performance effect and number of weak learner exploration.\n",
    "- (4) Use Open-CV library for face detection.  \n",
    "### As usual, in this experiment, we will use the mini framework [simple_ml](https://github.com/lizhaoliu-Lec/simple_ml). Besides, we will use sklearn's DecisionTreeClassifier (DTC) as weak learner."
   ]
  },
  {
   "cell_type": "code",
   "execution_count": 5,
   "metadata": {
    "pycharm": {
     "is_executing": false,
     "name": "#%%\n"
    }
   },
   "outputs": [
    {
     "name": "stdout",
     "output_type": "stream",
     "text": [
      "Requirement already satisfied: simple_ml in e:\\anaconda3\\envs\\ml_py\\lib\\site-packages (0.1.1)\n",
      "Requirement already satisfied: scipy in e:\\anaconda3\\envs\\ml_py\\lib\\site-packages (from simple_ml) (1.3.1)\n",
      "Requirement already satisfied: numpy in e:\\anaconda3\\envs\\ml_py\\lib\\site-packages (from simple_ml) (1.17.2)\n",
      "Note: you may need to restart the kernel to use updated packages.\n",
      "The autoreload extension is already loaded. To reload it, use:\n",
      "  %reload_ext autoreload\n"
     ]
    }
   ],
   "source": [
    "# as usual, do a little setup\n",
    "%pip install simple_ml\n",
    "import os\n",
    "import random\n",
    "import pickle\n",
    "import numpy as np\n",
    "\n",
    "from tqdm import tqdm\n",
    "from PIL import Image\n",
    "\n",
    "from sklearn.tree import DecisionTreeClassifier\n",
    "from simple_ml.preprocessing import NPDFeature\n",
    "from simple_ml.ensemble import AdaBoostClassifier\n",
    "\n",
    "import matplotlib.pyplot as plt\n",
    "\n",
    "%matplotlib inline\n",
    "plt.rcParams['figure.figsize'] = (10.0, 8.0) # set default size of plots\n",
    "plt.rcParams['image.interpolation'] = 'nearest'\n",
    "plt.rcParams['image.cmap'] = 'gray'\n",
    "\n",
    "# for auto-reloading external modules\n",
    "# see http://stackoverflow.com/questions/1907993/autoreload-of-modules-in-ipython\n",
    "%load_ext autoreload\n",
    "%autoreload 2\n",
    "\n",
    "def accuracy(y_t, y_pred):\n",
    "    y_pred = y_pred.reshape((-1, 1))\n",
    "    return np.mean(y_t == y_pred)"
   ]
  },
  {
   "cell_type": "code",
   "execution_count": 2,
   "metadata": {
    "pycharm": {
     "is_executing": false,
     "name": "#%%\n"
    }
   },
   "outputs": [
    {
     "name": "stdout",
     "output_type": "stream",
     "text": [
      "X train:  (700, 165600)  y train:  (700, 1)\n",
      "X val:  (100, 165600)  y val:  (100, 1)\n",
      "X test:  (200, 165600)  y test:  (200, 1)\n",
      "We have `700` training examples, `100` validation examples and `200` test examples\n",
      "X_train shape:  (700, 165600) , X_val shape:  (100, 165600) , X_test shape:  (200, 165600)\n",
      "y_train shape:  (700, 1) , y_val shape:  (100, 1) , y_test shape:  (200, 1)\n"
     ]
    }
   ],
   "source": [
    "# load the data.\n",
    "\n",
    "def convert_data_to_npd_feats(data_path='..\\\\tmp\\\\exp3', size=24, val_split=0.1, test_split=0.2, seed=1234):\n",
    "    face_img_root = os.path.join(data_path, 'face')\n",
    "    non_img_root = os.path.join(data_path, 'nonface')\n",
    "    faces_img_paths = os.listdir(face_img_root)\n",
    "    non_img_paths = os.listdir(non_img_root)\n",
    "    faces_img_paths = [os.path.join(face_img_root, i) for i in faces_img_paths]\n",
    "    non_img_paths = [os.path.join(non_img_root, i) for i in non_img_paths]\n",
    "\n",
    "    root_name = 'x'.join([str(size), str(size)])\n",
    "    root_name = 'npd_' + root_name\n",
    "    root_path = os.path.join(data_path, root_name)\n",
    "    if not os.path.exists(root_path):\n",
    "        os.makedirs(root_path)\n",
    "    all_Xy_data_path = os.path.join(root_path, 'data.bin')\n",
    "\n",
    "    if not os.path.exists(all_Xy_data_path):\n",
    "        # get face images\n",
    "        face_imgs = []\n",
    "        for face_img in tqdm(faces_img_paths):\n",
    "            im = Image.open(face_img, mode='r').convert('L')\n",
    "            im = im.resize((size, size), Image.ANTIALIAS)\n",
    "            im = np.asarray(im)\n",
    "            npd = NPDFeature(image=im)\n",
    "            im = npd.extract()\n",
    "            face_imgs.append(im)\n",
    "        face_arrays = np.array(face_imgs)\n",
    "        face_labels = np.ones((face_arrays.shape[0], 1))\n",
    "        # get non face images\n",
    "        non_imgs = []\n",
    "        for non_img in tqdm(non_img_paths):\n",
    "            im = Image.open(non_img, mode='r').convert('L')\n",
    "            im = im.resize((size, size), Image.ANTIALIAS)\n",
    "            im = np.asarray(im)\n",
    "            npd = NPDFeature(image=im)\n",
    "            im = npd.extract()\n",
    "            non_imgs.append(im)\n",
    "        non_arrays = np.array(non_imgs)\n",
    "        non_labels = -1 * np.ones((non_arrays.shape[0], 1))\n",
    "\n",
    "        X = np.concatenate([face_arrays, non_arrays], axis=0)\n",
    "        y = np.concatenate([face_labels, non_labels], axis=0)\n",
    "\n",
    "        rand_idx = [_ for _ in range(X.shape[0])]\n",
    "        random.seed(seed)\n",
    "        random.shuffle(rand_idx)\n",
    "        X = X[rand_idx]\n",
    "        y = y[rand_idx]\n",
    "        total_size = X.shape[0]\n",
    "        train_size = int(total_size * (1 - val_split - test_split))\n",
    "        val_size = train_size + int(total_size * val_split)\n",
    "        X_train, y_train = X[:train_size] / 255.0, y[:train_size]\n",
    "        X_val, y_val = X[train_size:val_size] / 255.0, y[train_size:val_size]\n",
    "        X_test, y_test = X[val_size:] / 255.0, y[val_size:]\n",
    "        pickle.dump([X_train, y_train, X_val, y_val, X_test, y_test],\n",
    "                    file=open(all_Xy_data_path, mode='wb'))\n",
    "    else:\n",
    "        X_train, y_train, X_val, y_val, X_test, y_test = pickle.load(file=open(all_Xy_data_path, mode='rb'))\n",
    "    print('X train: ', X_train.shape, ' y train: ', y_train.shape)\n",
    "    print('X val: ', X_val.shape, ' y val: ', y_val.shape)\n",
    "    print('X test: ', X_test.shape, ' y test: ', y_test.shape)\n",
    "    return X_train, y_train, X_val, y_val, X_test, y_test\n",
    "\n",
    "X_train, y_train, X_val, y_val, X_test, y_test = convert_data_to_npd_feats()\n",
    "print('We have `%d` training examples, `%d` validation examples and `%d` test examples' % (X_train.shape[0], X_val.shape[0],X_test.shape[0]))\n",
    "print('X_train shape: ', X_train.shape, ', X_val shape: ', X_val.shape, ', X_test shape: ', X_test.shape)\n",
    "print('y_train shape: ', y_train.shape, ', y_val shape: ', y_val.shape, ', y_test shape: ', y_test.shape)"
   ]
  },
  {
   "cell_type": "markdown",
   "metadata": {
    "pycharm": {
     "name": "#%% md\n"
    }
   },
   "source": [
    "We show the error rate to alpha in adaboost. \n",
    "We can see that, as the error rate goes up, alpha goes down.\n"
   ]
  },
  {
   "cell_type": "code",
   "execution_count": 3,
   "metadata": {
    "pycharm": {
     "is_executing": false,
     "name": "#%%\n"
    }
   },
   "outputs": [
    {
     "data": {
      "image/png": "[encoded data removed]",
      "text/plain": [
       "<Figure size 432x288 with 1 Axes>"
      ]
     },
     "metadata": {
      "needs_background": "light"
     },
     "output_type": "display_data"
    }
   ],
   "source": [
    "def error_to_alpha(x, eps=1e-8):\n",
    "    x = x.clip(min=eps, max=1-eps)\n",
    "    return 0.5 * np.log(1/x - 1)\n",
    "\n",
    "z = np.arange(1e-8, 5, 0.2)\n",
    "e = error_to_alpha(z)\n",
    "plt.plot(z, e)\n",
    "plt.xlabel('error rate')\n",
    "plt.ylabel('alpha')\n",
    "# plt.savefig('loss_fn.png', dpi=300)\n",
    "plt.show()"
   ]
  },
  {
   "cell_type": "markdown",
   "metadata": {},
   "source": [
    "\n",
    "### Weak learner's Performance\n",
    "\n",
    "We first evaluate the weak learner's performance with different depth in DTC.\n",
    "\n",
    "we search depth in range(5) and validate the performance on validation set."
   ]
  },
  {
   "cell_type": "code",
   "execution_count": 6,
   "metadata": {
    "pycharm": {
     "name": "#%%\n"
    }
   },
   "outputs": [
    {
     "name": "stdout",
     "output_type": "stream",
     "text": [
      "********** begin with depth = 1 **********\n",
      "********** begin with depth = 2 **********\n",
      "********** begin with depth = 3 **********\n",
      "********** begin with depth = 4 **********\n",
      "********** begin with depth = 5 **********\n"
     ]
    },
    {
     "data": {
      "image/png": "[encoded data removed]",
      "text/plain": [
       "<Figure size 720x576 with 1 Axes>"
      ]
     },
     "metadata": {
      "needs_background": "light"
     },
     "output_type": "display_data"
    },
    {
     "name": "stdout",
     "output_type": "stream",
     "text": [
      "In validation set, best depth: 4, best accuracy: 0.8900\n"
     ]
    }
   ],
   "source": [
    "depths = [1, 2, 3, 4, 5]\n",
    "d2train_acc = []\n",
    "d2val_acc = []\n",
    "\n",
    "for d in depths:\n",
    "    print(10*'*' + ' begin with depth = %d ' % d + 10*'*')\n",
    "    weak = DecisionTreeClassifier(max_depth=d)\n",
    "    weak.fit(X_train, y_train)\n",
    "    y_val_pred = weak.predict(X_val)\n",
    "    y_train_pred = weak.predict(X_train)\n",
    "    d2train_acc.append(accuracy(y_train, y_train_pred))\n",
    "    d2val_acc.append(accuracy(y_val, y_val_pred))\n",
    "\n",
    "plt.plot(depths, d2train_acc, label='Train')\n",
    "plt.plot(depths, d2val_acc, label='Val')\n",
    "plt.legend()\n",
    "plt.xlabel('depth')\n",
    "plt.ylabel('Accuracy')\n",
    "plt.savefig('d_weak_acc.png', dpi=300)\n",
    "plt.show()\n",
    "\n",
    "max_idx = np.argmax(np.array(d2val_acc))\n",
    "print('In validation set, best depth: %d, best accuracy: %.4f' % (depths[max_idx], d2val_acc[max_idx]) )\n"
   ]
  },
  {
   "cell_type": "code",
   "execution_count": null,
   "metadata": {},
   "outputs": [],
   "source": []
  }
 ],
 "metadata": {
  "kernelspec": {
   "display_name": "Python 3",
   "language": "python",
   "name": "python3"
  },
  "language_info": {
   "codemirror_mode": {
    "name": "ipython",
    "version": 3
   },
   "file_extension": ".py",
   "mimetype": "text/x-python",
   "name": "python",
   "nbconvert_exporter": "python",
   "pygments_lexer": "ipython3",
   "version": "3.6.9"
  },
  "pycharm": {
   "stem_cell": {
    "cell_type": "raw",
    "metadata": {
     "collapsed": false
    },
    "source": []
   }
  }
 },
 "nbformat": 4,
 "nbformat_minor": 1
}
